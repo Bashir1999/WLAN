{
 "cells": [
  {
   "cell_type": "markdown",
   "id": "fa90d0f1",
   "metadata": {},
   "source": []
  },
  {
   "cell_type": "markdown",
   "id": "e91331e8",
   "metadata": {},
   "source": [
    "## Part 1: Data Preprocessing "
   ]
  },
  {
   "cell_type": "code",
   "execution_count": 1,
   "id": "79fa9b1e",
   "metadata": {},
   "outputs": [],
   "source": [
    "import pandas as pd\n",
    "from pickle import load\n",
    "from sklearn.metrics import classification_report\n",
    "from sklearn.model_selection import train_test_split\n",
    "from sklearn.linear_model import LogisticRegression\n",
    "from sklearn.metrics import accuracy_score\n",
    "from sklearn.neighbors import KNeighborsClassifier\n",
    "from sklearn.model_selection import GridSearchCV\n",
    "from sklearn.model_selection import cross_val_score\n",
    "from sklearn.svm import SVC\n",
    "import matplotlib.pyplot as plt\n",
    "from sklearn.preprocessing import StandardScaler\n",
    "\n",
    "import random\n",
    "import warnings\n",
    "\n",
    "# Ignore all warnings\n",
    "warnings.filterwarnings(\"ignore\")"
   ]
  },
  {
   "cell_type": "code",
   "execution_count": 2,
   "id": "9eacc22b",
   "metadata": {},
   "outputs": [
    {
     "data": {
      "text/html": [
       "<div>\n",
       "<style scoped>\n",
       "    .dataframe tbody tr th:only-of-type {\n",
       "        vertical-align: middle;\n",
       "    }\n",
       "\n",
       "    .dataframe tbody tr th {\n",
       "        vertical-align: top;\n",
       "    }\n",
       "\n",
       "    .dataframe thead th {\n",
       "        text-align: right;\n",
       "    }\n",
       "</style>\n",
       "<table border=\"1\" class=\"dataframe\">\n",
       "  <thead>\n",
       "    <tr style=\"text-align: right;\">\n",
       "      <th></th>\n",
       "      <th>WAP001</th>\n",
       "      <th>WAP002</th>\n",
       "      <th>WAP003</th>\n",
       "      <th>WAP004</th>\n",
       "      <th>WAP005</th>\n",
       "      <th>WAP006</th>\n",
       "      <th>WAP007</th>\n",
       "      <th>WAP008</th>\n",
       "      <th>WAP009</th>\n",
       "      <th>WAP010</th>\n",
       "      <th>...</th>\n",
       "      <th>WAP520</th>\n",
       "      <th>LONGITUDE</th>\n",
       "      <th>LATITUDE</th>\n",
       "      <th>FLOOR</th>\n",
       "      <th>BUILDINGID</th>\n",
       "      <th>SPACEID</th>\n",
       "      <th>RELATIVEPOSITION</th>\n",
       "      <th>USERID</th>\n",
       "      <th>PHONEID</th>\n",
       "      <th>TIMESTAMP</th>\n",
       "    </tr>\n",
       "  </thead>\n",
       "  <tbody>\n",
       "    <tr>\n",
       "      <th>0</th>\n",
       "      <td>100</td>\n",
       "      <td>100</td>\n",
       "      <td>100</td>\n",
       "      <td>100</td>\n",
       "      <td>100</td>\n",
       "      <td>100</td>\n",
       "      <td>100</td>\n",
       "      <td>100</td>\n",
       "      <td>100</td>\n",
       "      <td>100</td>\n",
       "      <td>...</td>\n",
       "      <td>100</td>\n",
       "      <td>-7541.2643</td>\n",
       "      <td>4.864921e+06</td>\n",
       "      <td>2</td>\n",
       "      <td>1</td>\n",
       "      <td>106</td>\n",
       "      <td>2</td>\n",
       "      <td>2</td>\n",
       "      <td>23</td>\n",
       "      <td>1371713733</td>\n",
       "    </tr>\n",
       "    <tr>\n",
       "      <th>1</th>\n",
       "      <td>100</td>\n",
       "      <td>100</td>\n",
       "      <td>100</td>\n",
       "      <td>100</td>\n",
       "      <td>100</td>\n",
       "      <td>100</td>\n",
       "      <td>100</td>\n",
       "      <td>100</td>\n",
       "      <td>100</td>\n",
       "      <td>100</td>\n",
       "      <td>...</td>\n",
       "      <td>100</td>\n",
       "      <td>-7536.6212</td>\n",
       "      <td>4.864934e+06</td>\n",
       "      <td>2</td>\n",
       "      <td>1</td>\n",
       "      <td>106</td>\n",
       "      <td>2</td>\n",
       "      <td>2</td>\n",
       "      <td>23</td>\n",
       "      <td>1371713691</td>\n",
       "    </tr>\n",
       "    <tr>\n",
       "      <th>2</th>\n",
       "      <td>100</td>\n",
       "      <td>100</td>\n",
       "      <td>100</td>\n",
       "      <td>100</td>\n",
       "      <td>100</td>\n",
       "      <td>100</td>\n",
       "      <td>100</td>\n",
       "      <td>-97</td>\n",
       "      <td>100</td>\n",
       "      <td>100</td>\n",
       "      <td>...</td>\n",
       "      <td>100</td>\n",
       "      <td>-7519.1524</td>\n",
       "      <td>4.864950e+06</td>\n",
       "      <td>2</td>\n",
       "      <td>1</td>\n",
       "      <td>103</td>\n",
       "      <td>2</td>\n",
       "      <td>2</td>\n",
       "      <td>23</td>\n",
       "      <td>1371714095</td>\n",
       "    </tr>\n",
       "    <tr>\n",
       "      <th>3</th>\n",
       "      <td>100</td>\n",
       "      <td>100</td>\n",
       "      <td>100</td>\n",
       "      <td>100</td>\n",
       "      <td>100</td>\n",
       "      <td>100</td>\n",
       "      <td>100</td>\n",
       "      <td>100</td>\n",
       "      <td>100</td>\n",
       "      <td>100</td>\n",
       "      <td>...</td>\n",
       "      <td>100</td>\n",
       "      <td>-7524.5704</td>\n",
       "      <td>4.864934e+06</td>\n",
       "      <td>2</td>\n",
       "      <td>1</td>\n",
       "      <td>102</td>\n",
       "      <td>2</td>\n",
       "      <td>2</td>\n",
       "      <td>23</td>\n",
       "      <td>1371713807</td>\n",
       "    </tr>\n",
       "    <tr>\n",
       "      <th>4</th>\n",
       "      <td>100</td>\n",
       "      <td>100</td>\n",
       "      <td>100</td>\n",
       "      <td>100</td>\n",
       "      <td>100</td>\n",
       "      <td>100</td>\n",
       "      <td>100</td>\n",
       "      <td>100</td>\n",
       "      <td>100</td>\n",
       "      <td>100</td>\n",
       "      <td>...</td>\n",
       "      <td>100</td>\n",
       "      <td>-7632.1436</td>\n",
       "      <td>4.864982e+06</td>\n",
       "      <td>0</td>\n",
       "      <td>0</td>\n",
       "      <td>122</td>\n",
       "      <td>2</td>\n",
       "      <td>11</td>\n",
       "      <td>13</td>\n",
       "      <td>1369909710</td>\n",
       "    </tr>\n",
       "  </tbody>\n",
       "</table>\n",
       "<p>5 rows × 529 columns</p>\n",
       "</div>"
      ],
      "text/plain": [
       "   WAP001  WAP002  WAP003  WAP004  WAP005  WAP006  WAP007  WAP008  WAP009  \\\n",
       "0     100     100     100     100     100     100     100     100     100   \n",
       "1     100     100     100     100     100     100     100     100     100   \n",
       "2     100     100     100     100     100     100     100     -97     100   \n",
       "3     100     100     100     100     100     100     100     100     100   \n",
       "4     100     100     100     100     100     100     100     100     100   \n",
       "\n",
       "   WAP010  ...  WAP520  LONGITUDE      LATITUDE  FLOOR  BUILDINGID  SPACEID  \\\n",
       "0     100  ...     100 -7541.2643  4.864921e+06      2           1      106   \n",
       "1     100  ...     100 -7536.6212  4.864934e+06      2           1      106   \n",
       "2     100  ...     100 -7519.1524  4.864950e+06      2           1      103   \n",
       "3     100  ...     100 -7524.5704  4.864934e+06      2           1      102   \n",
       "4     100  ...     100 -7632.1436  4.864982e+06      0           0      122   \n",
       "\n",
       "   RELATIVEPOSITION  USERID  PHONEID   TIMESTAMP  \n",
       "0                 2       2       23  1371713733  \n",
       "1                 2       2       23  1371713691  \n",
       "2                 2       2       23  1371714095  \n",
       "3                 2       2       23  1371713807  \n",
       "4                 2      11       13  1369909710  \n",
       "\n",
       "[5 rows x 529 columns]"
      ]
     },
     "execution_count": 2,
     "metadata": {},
     "output_type": "execute_result"
    }
   ],
   "source": [
    "# Import the required library\n",
    "import pandas as pd\n",
    "\n",
    "# Read the training data from the CSV file into a DataFrame\n",
    "trainDF = pd.read_csv(\"trainingData.csv\")\n",
    "\n",
    "# Read the validation data from the CSV file into a DataFrame\n",
    "validDF = pd.read_csv('validationData.csv')\n",
    "\n",
    "# Display the first five rows of the training data to get an overview\n",
    "trainDF.head()"
   ]
  },
  {
   "cell_type": "code",
   "execution_count": 3,
   "id": "cd00faa3",
   "metadata": {},
   "outputs": [],
   "source": [
    "# Combine the training and validation DataFrames into a single DataFrame \n",
    "# and reset the index to ensure it runs sequentially\n",
    "\n",
    "combined_df = pd.concat([trainDF, validDF], ignore_index=True)\n"
   ]
  },
  {
   "cell_type": "code",
   "execution_count": 4,
   "id": "cb4f4fb1",
   "metadata": {},
   "outputs": [],
   "source": [
    "# Shuffle the combined DataFrame to ensure random distribution of data\n",
    "# The random_state ensures reproducibility, and reset_index reorganizes the index after shuffling\n",
    "new_df = combined_df.sample(frac=1, random_state=67).reset_index(drop=True)\n"
   ]
  },
  {
   "cell_type": "code",
   "execution_count": 5,
   "id": "40728480",
   "metadata": {},
   "outputs": [],
   "source": [
    "# Combine 'BUILDINGID' and 'FLOOR' into a new 'BUILDING_FLOOR' column\n",
    "new_df['BUILDING_FLOOR'] = (new_df['BUILDINGID'].astype(str) + new_df['FLOOR'].astype(str))"
   ]
  },
  {
   "cell_type": "code",
   "execution_count": 6,
   "id": "2ff539dd",
   "metadata": {},
   "outputs": [],
   "source": [
    "# X contains 520 features and Y contains the target\n",
    "X = new_df.iloc[:,0:520] \n",
    "y = new_df['BUILDING_FLOOR']\n",
    "\n",
    "# Perform stratified sampling for validation and test sets (balance class and reproducibility)\n",
    "X_train, X_temp, y_train, y_temp = train_test_split(X, y, test_size=0.2, stratify=y, random_state=73)\n",
    "X_val, X_test, y_val, y_test = train_test_split(X_temp, y_temp, test_size=0.5, stratify=y_temp, random_state=73)"
   ]
  },
  {
   "cell_type": "markdown",
   "id": "5069fdf9",
   "metadata": {},
   "source": [
    "## Part 2: Model Performance "
   ]
  },
  {
   "cell_type": "code",
   "execution_count": 7,
   "id": "028d7b2f",
   "metadata": {},
   "outputs": [
    {
     "name": "stdout",
     "output_type": "stream",
     "text": [
      "Accuracy: [0.92339667 0.9412114  0.9388361  0.93349169 0.93764846 0.93230404\n",
      " 0.94477435 0.93052257 0.93642305 0.92869875]\n"
     ]
    }
   ],
   "source": [
    "# Cross-Validation for Logistic Regression\n",
    "\n",
    "# Standardize the training data\n",
    "scaler = StandardScaler()\n",
    "X_train_standardized = scaler.fit_transform(X_train)\n",
    "\n",
    "# Initialize the logistic regression model\n",
    "logistic_model = LogisticRegression()\n",
    "\n",
    "# Conduct 10-fold cross-validation on the standardized data\n",
    "cv_scores = cross_val_score(logistic_model, X_train_standardized, y_train, cv=10, scoring='accuracy')\n",
    "\n",
    "# Display the accuracy scores from the cross-validation\n",
    "print('Accuracy:', cv_scores)\n"
   ]
  },
  {
   "cell_type": "code",
   "execution_count": 8,
   "id": "26958023",
   "metadata": {},
   "outputs": [
    {
     "name": "stdout",
     "output_type": "stream",
     "text": [
      "Accuracy: 0.934916864608076\n",
      "Classification Report:\n",
      "              precision    recall  f1-score   support\n",
      "\n",
      "          00       0.90      0.91      0.91       113\n",
      "          01       0.92      0.90      0.91       157\n",
      "          02       0.91      0.91      0.91       161\n",
      "          03       0.93      0.94      0.93       147\n",
      "          10       0.95      0.94      0.95       140\n",
      "          11       0.95      0.95      0.95       163\n",
      "          12       0.94      0.95      0.95       149\n",
      "          13       0.92      0.94      0.93       100\n",
      "          20       0.97      0.95      0.96       196\n",
      "          21       0.93      0.93      0.93       227\n",
      "          22       0.92      0.92      0.92       163\n",
      "          23       0.94      0.96      0.95       275\n",
      "          24       0.94      0.90      0.92       114\n",
      "\n",
      "    accuracy                           0.93      2105\n",
      "   macro avg       0.93      0.93      0.93      2105\n",
      "weighted avg       0.93      0.93      0.93      2105\n",
      "\n"
     ]
    }
   ],
   "source": [
    "# Logistic Regression Model Evaluation\n",
    "\n",
    "# Standardize the validation data using the same scaler as the training data\n",
    "X_val_standardized = scaler.transform(X_val)\n",
    "\n",
    "# Train the logistic regression model\n",
    "logistic_model.fit(X_train_standardized, y_train)\n",
    "\n",
    "# Make predictions on the validation set\n",
    "y_pred = logistic_model.predict(X_val_standardized)\n",
    "\n",
    "# Evaluate and display the model's accuracy\n",
    "accuracy = accuracy_score(y_val, y_pred)\n",
    "print(\"Accuracy:\", accuracy)\n",
    "\n",
    "# Display detailed performance metrics\n",
    "print(\"Classification Report:\")\n",
    "print(classification_report(y_val, y_pred))\n"
   ]
  },
  {
   "cell_type": "code",
   "execution_count": 9,
   "id": "ac90197d",
   "metadata": {},
   "outputs": [
    {
     "name": "stdout",
     "output_type": "stream",
     "text": [
      "Best n_neighbors: {'n_neighbors': 3}\n"
     ]
    }
   ],
   "source": [
    "# Grid Search for Optimal K in KNN\n",
    "\n",
    "# Define range of k values to test\n",
    "k_values = list(range(3, 10)) + list(range(10, 130, 5))\n",
    "\n",
    "# Set the grid of parameters\n",
    "param_grid = {'n_neighbors': k_values}\n",
    "\n",
    "# Initialize the KNN classifier\n",
    "knn_classifier = KNeighborsClassifier()\n",
    "\n",
    "# Configure GridSearchCV with KNN, the parameter grid, and 10-fold CV\n",
    "grid_search = GridSearchCV(knn_classifier, param_grid, cv=10)\n",
    "\n",
    "# Run the grid search\n",
    "grid_search.fit(X_train_standardized, y_train)\n",
    "\n",
    "# Display the optimal number of neighbors\n",
    "print(\"Best n_neighbors:\", grid_search.best_params_)\n"
   ]
  },
  {
   "cell_type": "code",
   "execution_count": 10,
   "id": "2ad830d2",
   "metadata": {},
   "outputs": [
    {
     "name": "stdout",
     "output_type": "stream",
     "text": [
      "Cross-Validation Scores: [0.92102138 0.93527316 0.93467933 0.93646081 0.92874109 0.93467933\n",
      " 0.93824228 0.94002375 0.93166964 0.94177065]\n",
      "Mean Accuracy: 0.9342561425347509\n",
      "Standard Deviation: 0.005693331627922446\n"
     ]
    }
   ],
   "source": [
    "# Cross Validation\n",
    "\n",
    "# Define the KNN classifier\n",
    "knn = KNeighborsClassifier(n_neighbors=3)\n",
    "\n",
    "# Perform 10-fold cross-validation (you can change the number of folds with the cv parameter)\n",
    "cv_scores = cross_val_score(knn_classifier, X_train_standardized, y_train, cv=10, scoring='accuracy')\n",
    "\n",
    "# Print the cross-validation scores\n",
    "print(\"Cross-Validation Scores:\", cv_scores)\n",
    "\n",
    "# Calculate mean and standard deviation of accuracy scores\n",
    "mean_accuracy = cv_scores.mean()\n",
    "std_accuracy = cv_scores.std()\n",
    "\n",
    "print('Mean Accuracy:', mean_accuracy)\n",
    "print('Standard Deviation:', std_accuracy)"
   ]
  },
  {
   "cell_type": "code",
   "execution_count": 11,
   "id": "66b1f7f2",
   "metadata": {},
   "outputs": [
    {
     "name": "stdout",
     "output_type": "stream",
     "text": [
      "Accuracy: 0.9315914489311163\n",
      "Classification Report:\n",
      "              precision    recall  f1-score   support\n",
      "\n",
      "          00       0.85      0.94      0.89       113\n",
      "          01       0.87      0.90      0.88       157\n",
      "          02       0.89      0.81      0.85       161\n",
      "          03       0.91      0.88      0.90       147\n",
      "          10       0.95      0.96      0.96       140\n",
      "          11       0.96      0.95      0.96       163\n",
      "          12       0.94      0.93      0.94       149\n",
      "          13       0.91      0.89      0.90       100\n",
      "          20       0.95      0.99      0.97       196\n",
      "          21       0.95      0.94      0.95       227\n",
      "          22       0.94      0.93      0.93       163\n",
      "          23       0.96      0.96      0.96       275\n",
      "          24       0.98      0.96      0.97       114\n",
      "\n",
      "    accuracy                           0.93      2105\n",
      "   macro avg       0.93      0.93      0.93      2105\n",
      "weighted avg       0.93      0.93      0.93      2105\n",
      "\n"
     ]
    }
   ],
   "source": [
    "# KNN\n",
    "\n",
    "# Fit the classifier to the training data\n",
    "knn.fit(X_train_standardized, y_train)\n",
    "\n",
    "# Predict the labels for the validation set\n",
    "y_pred = knn.predict(X_val_standardized)\n",
    "\n",
    "# Calculate accuracy\n",
    "accuracy = accuracy_score(y_val, y_pred)\n",
    "print(\"Accuracy:\", accuracy)\n",
    "\n",
    "# Print a classification report\n",
    "print(\"Classification Report:\")\n",
    "print(classification_report(y_val, y_pred))"
   ]
  },
  {
   "cell_type": "code",
   "execution_count": 12,
   "id": "68d5da74",
   "metadata": {},
   "outputs": [
    {
     "name": "stdout",
     "output_type": "stream",
     "text": [
      "Accuracy: [0.94893112 0.94477435 0.95368171 0.94536817 0.94239905 0.94655582\n",
      " 0.95071259 0.95427553 0.94592989 0.94652406]\n",
      "Mean Accuracy: 0.9479152288569643\n",
      "Standard Deviation: 0.00370228085361331\n"
     ]
    }
   ],
   "source": [
    "# Cross-Validation for Support Vector Classifier (SVC)\n",
    "\n",
    "# Initialize the SVC model\n",
    "svc_model = SVC()\n",
    "\n",
    "# Conduct 10-fold cross-validation on standardized data\n",
    "cv_scores = cross_val_score(svc_model, X_train_standardized, y_train, cv=10, scoring='accuracy')\n",
    "\n",
    "# Display individual accuracy scores\n",
    "print('Accuracy:', cv_scores)\n",
    "\n",
    "# Compute and display the mean and standard deviation of accuracy scores\n",
    "mean_accuracy = cv_scores.mean()\n",
    "std_accuracy = cv_scores.std()\n",
    "print('Mean Accuracy:', mean_accuracy)\n",
    "print('Standard Deviation:', std_accuracy)\n"
   ]
  },
  {
   "cell_type": "code",
   "execution_count": 13,
   "id": "2cc381c6",
   "metadata": {},
   "outputs": [
    {
     "name": "stdout",
     "output_type": "stream",
     "text": [
      "Accuracy: 0.9410926365795724\n",
      "Classification Report:\n",
      "              precision    recall  f1-score   support\n",
      "\n",
      "          00       0.91      0.92      0.92       113\n",
      "          01       0.92      0.89      0.91       157\n",
      "          02       0.86      0.95      0.90       161\n",
      "          03       0.96      0.90      0.93       147\n",
      "          10       0.98      0.94      0.96       140\n",
      "          11       0.92      0.98      0.95       163\n",
      "          12       0.95      0.94      0.94       149\n",
      "          13       0.96      0.89      0.92       100\n",
      "          20       0.94      0.97      0.96       196\n",
      "          21       0.96      0.93      0.94       227\n",
      "          22       0.93      0.93      0.93       163\n",
      "          23       0.96      0.99      0.97       275\n",
      "          24       1.00      0.92      0.96       114\n",
      "\n",
      "    accuracy                           0.94      2105\n",
      "   macro avg       0.94      0.94      0.94      2105\n",
      "weighted avg       0.94      0.94      0.94      2105\n",
      "\n"
     ]
    }
   ],
   "source": [
    "# Support Vector Classification (SVC) model\n",
    "\n",
    "# Fit the model on the training data\n",
    "svc_model.fit(X_train_standardized, y_train)\n",
    "\n",
    "# Predict on the validation data\n",
    "y_pred = svc_model.predict(X_val_standardized)\n",
    "\n",
    "# Calculate accuracy\n",
    "accuracy = accuracy_score(y_val, y_pred)\n",
    "print(\"Accuracy:\", accuracy)\n",
    "# Print a classification report\n",
    "print(\"Classification Report:\")\n",
    "print(classification_report(y_val, y_pred))"
   ]
  },
  {
   "cell_type": "markdown",
   "id": "2a5c3774",
   "metadata": {},
   "source": [
    "## Part 3: Experimentations"
   ]
  },
  {
   "cell_type": "code",
   "execution_count": 14,
   "id": "ff3b3e6e",
   "metadata": {},
   "outputs": [
    {
     "name": "stdout",
     "output_type": "stream",
     "text": [
      "Length of 20% dataset: 3367\n",
      "Length of full dataset: 16838\n"
     ]
    }
   ],
   "source": [
    "# 20%\n",
    "\n",
    "# Set the random seed to ensure reproducibility of random processes\n",
    "random.seed(42)\n",
    "\n",
    "# Convert the features and target values from training set to lists\n",
    "train_x = list(X_train_standardized)\n",
    "train_y = list(y_train)\n",
    "\n",
    "\n",
    "# Calculate 20% of the data length\n",
    "twenty_percent = int(0.2 * len(train_x))\n",
    "\n",
    "# Get the indices of 20% of the data points randomly\n",
    "random_indices = random.sample(range(len(train_x)), twenty_percent)\n",
    "\n",
    "# Select corresponding data points from train_x and train_y using random indices\n",
    "train20_x = [train_x[i] for i in random_indices]\n",
    "train20_y = [train_y[i] for i in random_indices]\n",
    "print('Length of 20% dataset:',len(train20_x))\n",
    "print('Length of full dataset:', len(X_train))"
   ]
  },
  {
   "cell_type": "code",
   "execution_count": 15,
   "id": "ce4e6f75",
   "metadata": {},
   "outputs": [
    {
     "name": "stdout",
     "output_type": "stream",
     "text": [
      "Accuracy: 0.8921615201900237\n",
      "Classification Report:\n",
      "              precision    recall  f1-score   support\n",
      "\n",
      "          00       0.92      0.85      0.88       114\n",
      "          01       0.86      0.90      0.88       156\n",
      "          02       0.82      0.83      0.83       161\n",
      "          03       0.86      0.84      0.85       148\n",
      "          10       0.91      0.93      0.92       140\n",
      "          11       0.88      0.89      0.88       162\n",
      "          12       0.90      0.88      0.89       148\n",
      "          13       0.89      0.86      0.87        99\n",
      "          20       0.92      0.97      0.95       197\n",
      "          21       0.90      0.89      0.90       228\n",
      "          22       0.85      0.83      0.84       163\n",
      "          23       0.94      0.93      0.93       275\n",
      "          24       0.94      0.95      0.94       114\n",
      "\n",
      "    accuracy                           0.89      2105\n",
      "   macro avg       0.89      0.89      0.89      2105\n",
      "weighted avg       0.89      0.89      0.89      2105\n",
      "\n"
     ]
    }
   ],
   "source": [
    "# Logistic Regression\n",
    "\n",
    "# Standardize test set\n",
    "X_test_standardized = scaler.transform(X_test)\n",
    "\n",
    "# Initialize the logistic regression model\n",
    "logistic_model2 = LogisticRegression()\n",
    "\n",
    "# Fit the model on 20% of training data\n",
    "logistic_model2.fit(train20_x, train20_y)\n",
    "\n",
    "# Predict on the test data\n",
    "y_pred = logistic_model2.predict(X_test_standardized)\n",
    "\n",
    "# Calculate accuracy\n",
    "accuracy1 = accuracy_score(y_test, y_pred)\n",
    "print(\"Accuracy:\", accuracy1)\n",
    "\n",
    "# Print a classification report\n",
    "print(\"Classification Report:\")\n",
    "print(classification_report(y_test, y_pred))"
   ]
  },
  {
   "cell_type": "code",
   "execution_count": 16,
   "id": "b4998865",
   "metadata": {},
   "outputs": [
    {
     "name": "stdout",
     "output_type": "stream",
     "text": [
      "Accuracy: 0.8731591448931116\n",
      "Classification Report:\n",
      "              precision    recall  f1-score   support\n",
      "\n",
      "          00       0.80      0.87      0.84       114\n",
      "          01       0.79      0.80      0.79       156\n",
      "          02       0.75      0.68      0.71       161\n",
      "          03       0.79      0.81      0.80       148\n",
      "          10       0.88      0.96      0.91       140\n",
      "          11       0.93      0.88      0.90       162\n",
      "          12       0.94      0.86      0.90       148\n",
      "          13       0.84      0.93      0.88        99\n",
      "          20       0.89      0.98      0.93       197\n",
      "          21       0.86      0.92      0.89       228\n",
      "          22       0.90      0.80      0.85       163\n",
      "          23       0.96      0.92      0.94       275\n",
      "          24       0.98      0.91      0.95       114\n",
      "\n",
      "    accuracy                           0.87      2105\n",
      "   macro avg       0.87      0.87      0.87      2105\n",
      "weighted avg       0.87      0.87      0.87      2105\n",
      "\n"
     ]
    }
   ],
   "source": [
    "# KNN\n",
    "\n",
    "# Initialize the KNN classifier\n",
    "knn2 = KNeighborsClassifier(n_neighbors=3)\n",
    "\n",
    "# Fit the classifier to the 20% of training data\n",
    "knn2.fit(train20_x, train20_y)\n",
    "\n",
    "# Predict the labels for the test set\n",
    "y_pred = knn2.predict(X_test_standardized)\n",
    "\n",
    "# Calculate accuracy\n",
    "accuracy2 = accuracy_score(y_test, y_pred)\n",
    "print(\"Accuracy:\", accuracy2)\n",
    "\n",
    "# Print a classification report\n",
    "print(\"Classification Report:\")\n",
    "print(classification_report(y_test, y_pred))"
   ]
  },
  {
   "cell_type": "code",
   "execution_count": 17,
   "id": "aca8008c",
   "metadata": {},
   "outputs": [
    {
     "name": "stdout",
     "output_type": "stream",
     "text": [
      "Accuracy: 0.9045130641330166\n",
      "Classification Report:\n",
      "              precision    recall  f1-score   support\n",
      "\n",
      "          00       0.92      0.84      0.88       114\n",
      "          01       0.88      0.86      0.87       156\n",
      "          02       0.68      0.83      0.75       161\n",
      "          03       0.83      0.84      0.83       148\n",
      "          10       0.98      0.91      0.94       140\n",
      "          11       0.89      0.93      0.91       162\n",
      "          12       0.92      0.91      0.92       148\n",
      "          13       0.94      0.90      0.92        99\n",
      "          20       0.95      0.98      0.97       197\n",
      "          21       0.94      0.93      0.93       228\n",
      "          22       0.95      0.83      0.89       163\n",
      "          23       0.94      0.97      0.96       275\n",
      "          24       1.00      0.92      0.96       114\n",
      "\n",
      "    accuracy                           0.90      2105\n",
      "   macro avg       0.91      0.90      0.90      2105\n",
      "weighted avg       0.91      0.90      0.91      2105\n",
      "\n"
     ]
    }
   ],
   "source": [
    "# SVC\n",
    "# Initialize the SVC model\n",
    "svc_model2 = SVC()\n",
    "# Fit the classifier to the 20% of training data\n",
    "svc_model2.fit(train20_x, train20_y)\n",
    "\n",
    "# Predict on the test data\n",
    "y_pred = svc_model2.predict(X_test_standardized)\n",
    "\n",
    "# Calculate accuracy\n",
    "accuracy3 = accuracy_score(y_test, y_pred)\n",
    "print(\"Accuracy:\", accuracy3)\n",
    "\n",
    "# Print a classification report\n",
    "print(\"Classification Report:\")\n",
    "print(classification_report(y_test, y_pred))"
   ]
  },
  {
   "cell_type": "code",
   "execution_count": 18,
   "id": "51dd9737",
   "metadata": {},
   "outputs": [],
   "source": [
    "# Get the average acuracy of three models for 20% of data\n",
    "average_score_exp1 = (accuracy1+accuracy2+accuracy3)/3"
   ]
  },
  {
   "cell_type": "code",
   "execution_count": null,
   "id": "38e774e2",
   "metadata": {},
   "outputs": [],
   "source": []
  },
  {
   "cell_type": "code",
   "execution_count": 19,
   "id": "5e10bf53",
   "metadata": {},
   "outputs": [
    {
     "name": "stdout",
     "output_type": "stream",
     "text": [
      "Length of 40% dataset: 6735\n",
      "Length of full dataset: 16838\n"
     ]
    }
   ],
   "source": [
    "# 40%\n",
    "\n",
    "# Set the random seed to ensure reproducibility of random processes\n",
    "random.seed(42)\n",
    "\n",
    "# Calculate 40% of the data length\n",
    "forty_percent = int(0.4 * len(train_x))\n",
    "\n",
    "# Get the indices of 40% of the data points randomly\n",
    "random_indices = random.sample(range(len(train_x)), forty_percent)\n",
    "\n",
    "# Select corresponding data points from train_x and train_y using random indices\n",
    "train40_x = [train_x[i] for i in random_indices]\n",
    "train40_y = [train_y[i] for i in random_indices]\n",
    "print('Length of 40% dataset:',len(train40_x))\n",
    "print('Length of full dataset:', len(X_train))"
   ]
  },
  {
   "cell_type": "code",
   "execution_count": 20,
   "id": "caf271cd",
   "metadata": {},
   "outputs": [
    {
     "name": "stdout",
     "output_type": "stream",
     "text": [
      "Accuracy: 0.9187648456057007\n",
      "Classification Report:\n",
      "              precision    recall  f1-score   support\n",
      "\n",
      "          00       0.88      0.92      0.90       114\n",
      "          01       0.91      0.88      0.90       156\n",
      "          02       0.86      0.84      0.85       161\n",
      "          03       0.87      0.89      0.88       148\n",
      "          10       0.92      0.94      0.93       140\n",
      "          11       0.91      0.89      0.90       162\n",
      "          12       0.93      0.92      0.92       148\n",
      "          13       0.88      0.94      0.91        99\n",
      "          20       0.95      0.96      0.96       197\n",
      "          21       0.95      0.93      0.94       228\n",
      "          22       0.94      0.91      0.93       163\n",
      "          23       0.96      0.95      0.95       275\n",
      "          24       0.92      0.96      0.94       114\n",
      "\n",
      "    accuracy                           0.92      2105\n",
      "   macro avg       0.91      0.92      0.92      2105\n",
      "weighted avg       0.92      0.92      0.92      2105\n",
      "\n"
     ]
    }
   ],
   "source": [
    "# Logistic Regression\n",
    "\n",
    "# Initialize the logistic regression model\n",
    "logistic_model3 = LogisticRegression()\n",
    "\n",
    "# Fit the model on the 40% of training data\n",
    "logistic_model3.fit(train40_x, train40_y)\n",
    "\n",
    "# Predict on the test data\n",
    "y_pred = logistic_model3.predict(X_test_standardized)\n",
    "\n",
    "# Calculate accuracy\n",
    "accuracy4 = accuracy_score(y_test, y_pred)\n",
    "print(\"Accuracy:\", accuracy4)\n",
    "\n",
    "# Print a classification report\n",
    "print(\"Classification Report:\")\n",
    "print(classification_report(y_test, y_pred))"
   ]
  },
  {
   "cell_type": "code",
   "execution_count": 21,
   "id": "44670b90",
   "metadata": {},
   "outputs": [
    {
     "name": "stdout",
     "output_type": "stream",
     "text": [
      "Accuracy: 0.9021377672209027\n",
      "Classification Report:\n",
      "              precision    recall  f1-score   support\n",
      "\n",
      "          00       0.82      0.93      0.87       114\n",
      "          01       0.86      0.85      0.85       156\n",
      "          02       0.83      0.74      0.78       161\n",
      "          03       0.84      0.86      0.85       148\n",
      "          10       0.89      0.98      0.93       140\n",
      "          11       0.97      0.88      0.92       162\n",
      "          12       0.97      0.89      0.93       148\n",
      "          13       0.85      1.00      0.92        99\n",
      "          20       0.95      0.95      0.95       197\n",
      "          21       0.89      0.90      0.90       228\n",
      "          22       0.91      0.83      0.87       163\n",
      "          23       0.94      0.95      0.95       275\n",
      "          24       0.99      0.97      0.98       114\n",
      "\n",
      "    accuracy                           0.90      2105\n",
      "   macro avg       0.90      0.90      0.90      2105\n",
      "weighted avg       0.90      0.90      0.90      2105\n",
      "\n"
     ]
    }
   ],
   "source": [
    "# KNN\n",
    "\n",
    "# Initialize the KNN classifier\n",
    "knn3 = KNeighborsClassifier(n_neighbors=3)\n",
    "\n",
    "# Fit the classifier to the 40% of training data\n",
    "knn3.fit(train40_x, train40_y)\n",
    "\n",
    "# Predict the labels for the test set\n",
    "y_pred = knn3.predict(X_test_standardized)\n",
    "\n",
    "# Calculate accuracy\n",
    "accuracy5 = accuracy_score(y_test, y_pred)\n",
    "print(\"Accuracy:\", accuracy5)\n",
    "\n",
    "# Print a classification report\n",
    "print(\"Classification Report:\")\n",
    "print(classification_report(y_test, y_pred))"
   ]
  },
  {
   "cell_type": "code",
   "execution_count": 22,
   "id": "18789f82",
   "metadata": {},
   "outputs": [
    {
     "name": "stdout",
     "output_type": "stream",
     "text": [
      "Accuracy: 0.9339667458432304\n",
      "Classification Report:\n",
      "              precision    recall  f1-score   support\n",
      "\n",
      "          00       0.91      0.93      0.92       114\n",
      "          01       0.94      0.88      0.91       156\n",
      "          02       0.77      0.90      0.83       161\n",
      "          03       0.90      0.88      0.89       148\n",
      "          10       0.96      0.96      0.96       140\n",
      "          11       0.97      0.93      0.95       162\n",
      "          12       0.95      0.95      0.95       148\n",
      "          13       0.90      0.97      0.93        99\n",
      "          20       0.97      0.97      0.97       197\n",
      "          21       0.94      0.93      0.94       228\n",
      "          22       0.97      0.86      0.91       163\n",
      "          23       0.96      0.99      0.98       275\n",
      "          24       1.00      0.95      0.97       114\n",
      "\n",
      "    accuracy                           0.93      2105\n",
      "   macro avg       0.93      0.93      0.93      2105\n",
      "weighted avg       0.94      0.93      0.93      2105\n",
      "\n"
     ]
    }
   ],
   "source": [
    "# SVC\n",
    "\n",
    "svc_model3 = SVC()\n",
    "svc_model3.fit(train40_x, train40_y)\n",
    "\n",
    "# Predict on the test data\n",
    "y_pred = svc_model3.predict(X_test_standardized)\n",
    "\n",
    "# Calculate accuracy\n",
    "accuracy6 = accuracy_score(y_test, y_pred)\n",
    "print(\"Accuracy:\", accuracy6)\n",
    "\n",
    "# Print a classification report\n",
    "print(\"Classification Report:\")\n",
    "print(classification_report(y_test, y_pred))"
   ]
  },
  {
   "cell_type": "code",
   "execution_count": 23,
   "id": "0551132a",
   "metadata": {},
   "outputs": [],
   "source": [
    "# Get the average acuracy of three models for 40% of data\n",
    "average_score_exp2 = (accuracy4+accuracy5+accuracy6)/3"
   ]
  },
  {
   "cell_type": "code",
   "execution_count": null,
   "id": "155ae8c6",
   "metadata": {},
   "outputs": [],
   "source": []
  },
  {
   "cell_type": "code",
   "execution_count": 24,
   "id": "566ad8e9",
   "metadata": {},
   "outputs": [
    {
     "name": "stdout",
     "output_type": "stream",
     "text": [
      "Length of 60% dataset: 10102\n",
      "Length of full dataset: 16838\n"
     ]
    }
   ],
   "source": [
    "# 60%\n",
    "random.seed(42)\n",
    "\n",
    "# Calculate 60% of the data length\n",
    "sixty_percent = int(0.6 * len(train_x))\n",
    "\n",
    "# Get the indices of 60% of the data points randomly\n",
    "random_indices = random.sample(range(len(train_x)), sixty_percent)\n",
    "\n",
    "# Select corresponding data points from train_x and train_y using random indices\n",
    "train60_x = [train_x[i] for i in random_indices]\n",
    "train60_y = [train_y[i] for i in random_indices]\n",
    "print('Length of 60% dataset:',len(train60_x))\n",
    "print('Length of full dataset:', len(X_train))"
   ]
  },
  {
   "cell_type": "code",
   "execution_count": 25,
   "id": "f9d0e433",
   "metadata": {},
   "outputs": [
    {
     "name": "stdout",
     "output_type": "stream",
     "text": [
      "Accuracy: 0.918289786223278\n",
      "Classification Report:\n",
      "              precision    recall  f1-score   support\n",
      "\n",
      "          00       0.88      0.93      0.91       114\n",
      "          01       0.91      0.87      0.89       156\n",
      "          02       0.86      0.83      0.84       161\n",
      "          03       0.86      0.91      0.88       148\n",
      "          10       0.94      0.93      0.94       140\n",
      "          11       0.92      0.91      0.91       162\n",
      "          12       0.91      0.94      0.93       148\n",
      "          13       0.87      0.92      0.89        99\n",
      "          20       0.95      0.96      0.96       197\n",
      "          21       0.95      0.93      0.94       228\n",
      "          22       0.92      0.90      0.91       163\n",
      "          23       0.96      0.94      0.95       275\n",
      "          24       0.91      0.96      0.94       114\n",
      "\n",
      "    accuracy                           0.92      2105\n",
      "   macro avg       0.91      0.92      0.91      2105\n",
      "weighted avg       0.92      0.92      0.92      2105\n",
      "\n"
     ]
    }
   ],
   "source": [
    "# Logistic Regression\n",
    "\n",
    "# Initialize the logistic regression model\n",
    "logistic_model4 = LogisticRegression()\n",
    "\n",
    "# Fit the model on the 60% of training data\n",
    "logistic_model4.fit(train60_x, train60_y)\n",
    "\n",
    "# Predict on the test data\n",
    "y_pred = logistic_model4.predict(X_test_standardized)\n",
    "\n",
    "# Calculate accuracy\n",
    "accuracy7 = accuracy_score(y_test, y_pred)\n",
    "print(\"Accuracy:\", accuracy7)\n",
    "\n",
    "# Print a classification report\n",
    "print(\"Classification Report:\")\n",
    "print(classification_report(y_test, y_pred))"
   ]
  },
  {
   "cell_type": "code",
   "execution_count": 26,
   "id": "984c09d4",
   "metadata": {},
   "outputs": [
    {
     "name": "stdout",
     "output_type": "stream",
     "text": [
      "Accuracy: 0.9220902612826604\n",
      "Classification Report:\n",
      "              precision    recall  f1-score   support\n",
      "\n",
      "          00       0.86      0.93      0.89       114\n",
      "          01       0.87      0.89      0.88       156\n",
      "          02       0.89      0.75      0.81       161\n",
      "          03       0.84      0.91      0.87       148\n",
      "          10       0.88      0.98      0.93       140\n",
      "          11       0.97      0.88      0.92       162\n",
      "          12       0.95      0.89      0.92       148\n",
      "          13       0.87      0.99      0.92        99\n",
      "          20       0.96      0.96      0.96       197\n",
      "          21       0.94      0.94      0.94       228\n",
      "          22       0.92      0.88      0.90       163\n",
      "          23       0.97      0.97      0.97       275\n",
      "          24       1.00      1.00      1.00       114\n",
      "\n",
      "    accuracy                           0.92      2105\n",
      "   macro avg       0.92      0.92      0.92      2105\n",
      "weighted avg       0.92      0.92      0.92      2105\n",
      "\n"
     ]
    }
   ],
   "source": [
    "# KNN\n",
    "\n",
    "# Initialize the KNN classifier\n",
    "knn4 = KNeighborsClassifier(n_neighbors=3)\n",
    "\n",
    "# Fit the classifier to the 60% of training data\n",
    "knn4.fit(train60_x, train60_y)\n",
    "\n",
    "# Predict the labels for the test set\n",
    "y_pred = knn4.predict(X_test_standardized)\n",
    "\n",
    "# Calculate accuracy\n",
    "accuracy8 = accuracy_score(y_test, y_pred)\n",
    "print(\"Accuracy:\", accuracy8)\n",
    "\n",
    "# Print a classification report\n",
    "print(\"Classification Report:\")\n",
    "print(classification_report(y_test, y_pred))"
   ]
  },
  {
   "cell_type": "code",
   "execution_count": 27,
   "id": "a3c02e8b",
   "metadata": {},
   "outputs": [
    {
     "name": "stdout",
     "output_type": "stream",
     "text": [
      "Accuracy: 0.9420427553444181\n",
      "Classification Report:\n",
      "              precision    recall  f1-score   support\n",
      "\n",
      "          00       0.93      0.94      0.93       114\n",
      "          01       0.95      0.91      0.93       156\n",
      "          02       0.80      0.90      0.85       161\n",
      "          03       0.90      0.89      0.89       148\n",
      "          10       0.97      0.96      0.97       140\n",
      "          11       0.96      0.94      0.95       162\n",
      "          12       0.95      0.95      0.95       148\n",
      "          13       0.90      0.96      0.93        99\n",
      "          20       0.97      0.97      0.97       197\n",
      "          21       0.96      0.95      0.95       228\n",
      "          22       0.98      0.89      0.93       163\n",
      "          23       0.97      1.00      0.98       275\n",
      "          24       1.00      0.95      0.97       114\n",
      "\n",
      "    accuracy                           0.94      2105\n",
      "   macro avg       0.94      0.94      0.94      2105\n",
      "weighted avg       0.94      0.94      0.94      2105\n",
      "\n"
     ]
    }
   ],
   "source": [
    "# SVC\n",
    "\n",
    "svc_model4 = SVC()\n",
    "svc_model4.fit(train60_x, train60_y)\n",
    "\n",
    "# Predict on the test data\n",
    "y_pred = svc_model4.predict(X_test_standardized)\n",
    "\n",
    "# Calculate accuracy\n",
    "accuracy9 = accuracy_score(y_test, y_pred)\n",
    "print(\"Accuracy:\", accuracy9)\n",
    "\n",
    "# Print a classification report\n",
    "print(\"Classification Report:\")\n",
    "print(classification_report(y_test, y_pred))"
   ]
  },
  {
   "cell_type": "code",
   "execution_count": 28,
   "id": "8d69be21",
   "metadata": {},
   "outputs": [],
   "source": [
    "# Get the average acuracy of three models for 60% of data\n",
    "average_score_exp3 = (accuracy7+accuracy8+accuracy9)/3"
   ]
  },
  {
   "cell_type": "code",
   "execution_count": null,
   "id": "16e547cb",
   "metadata": {},
   "outputs": [],
   "source": []
  },
  {
   "cell_type": "code",
   "execution_count": 29,
   "id": "827e7a74",
   "metadata": {},
   "outputs": [
    {
     "name": "stdout",
     "output_type": "stream",
     "text": [
      "Length of 80% dataset: 13470\n",
      "Length of full dataset: 16838\n"
     ]
    }
   ],
   "source": [
    "# 80%\n",
    "random.seed(42)\n",
    "\n",
    "# Calculate 80% of the data length\n",
    "eighty_percent = int(0.8 * len(train_x))\n",
    "\n",
    "# Get the indices of 80% of the data points randomly\n",
    "random_indices = random.sample(range(len(train_x)), eighty_percent)\n",
    "\n",
    "# Select corresponding data points from train_x and train_y using random indices\n",
    "train80_x = [train_x[i] for i in random_indices]\n",
    "train80_y = [train_y[i] for i in random_indices]\n",
    "print('Length of 80% dataset:',len(train80_x))\n",
    "print('Length of full dataset:', len(X_train))"
   ]
  },
  {
   "cell_type": "code",
   "execution_count": 30,
   "id": "0be627eb",
   "metadata": {},
   "outputs": [
    {
     "name": "stdout",
     "output_type": "stream",
     "text": [
      "Accuracy: 0.9258907363420428\n",
      "Classification Report:\n",
      "              precision    recall  f1-score   support\n",
      "\n",
      "          00       0.91      0.91      0.91       114\n",
      "          01       0.90      0.90      0.90       156\n",
      "          02       0.86      0.83      0.84       161\n",
      "          03       0.86      0.90      0.88       148\n",
      "          10       0.95      0.95      0.95       140\n",
      "          11       0.94      0.92      0.93       162\n",
      "          12       0.93      0.95      0.94       148\n",
      "          13       0.88      0.94      0.91        99\n",
      "          20       0.96      0.97      0.96       197\n",
      "          21       0.96      0.94      0.95       228\n",
      "          22       0.94      0.91      0.93       163\n",
      "          23       0.96      0.95      0.96       275\n",
      "          24       0.91      0.96      0.93       114\n",
      "\n",
      "    accuracy                           0.93      2105\n",
      "   macro avg       0.92      0.92      0.92      2105\n",
      "weighted avg       0.93      0.93      0.93      2105\n",
      "\n"
     ]
    }
   ],
   "source": [
    "# Logistic Regression\n",
    "\n",
    "# Initialize the logistic regression model\n",
    "logistic_model5 = LogisticRegression()\n",
    "\n",
    "# Fit the model on the 80% of training data\n",
    "logistic_model5.fit(train80_x, train80_y)\n",
    "\n",
    "# Predict on the test data\n",
    "y_pred = logistic_model5.predict(X_test_standardized)\n",
    "\n",
    "# Calculate accuracy\n",
    "accuracy10 = accuracy_score(y_test, y_pred)\n",
    "print(\"Accuracy:\", accuracy10)\n",
    "\n",
    "# Print a classification report\n",
    "print(\"Classification Report:\")\n",
    "print(classification_report(y_test, y_pred))"
   ]
  },
  {
   "cell_type": "code",
   "execution_count": 31,
   "id": "3f68a411",
   "metadata": {},
   "outputs": [
    {
     "name": "stdout",
     "output_type": "stream",
     "text": [
      "Accuracy: 0.9315914489311163\n",
      "Classification Report:\n",
      "              precision    recall  f1-score   support\n",
      "\n",
      "          00       0.87      0.94      0.90       114\n",
      "          01       0.89      0.90      0.89       156\n",
      "          02       0.90      0.83      0.86       161\n",
      "          03       0.89      0.91      0.90       148\n",
      "          10       0.91      0.98      0.94       140\n",
      "          11       0.98      0.91      0.94       162\n",
      "          12       0.94      0.93      0.94       148\n",
      "          13       0.88      0.99      0.93        99\n",
      "          20       0.97      0.96      0.96       197\n",
      "          21       0.93      0.94      0.94       228\n",
      "          22       0.93      0.88      0.91       163\n",
      "          23       0.96      0.98      0.97       275\n",
      "          24       1.00      0.99      1.00       114\n",
      "\n",
      "    accuracy                           0.93      2105\n",
      "   macro avg       0.93      0.93      0.93      2105\n",
      "weighted avg       0.93      0.93      0.93      2105\n",
      "\n"
     ]
    }
   ],
   "source": [
    "# KNN\n",
    "\n",
    "# Initialize the KNN classifier\n",
    "knn5 = KNeighborsClassifier(n_neighbors=3)\n",
    "\n",
    "# Fit the classifier to the 80% of training data\n",
    "knn5.fit(train80_x, train80_y)\n",
    "\n",
    "# Predict the labels for the test set\n",
    "y_pred = knn5.predict(X_test_standardized)\n",
    "\n",
    "# Calculate accuracy\n",
    "accuracy11 = accuracy_score(y_test, y_pred)\n",
    "print(\"Accuracy:\", accuracy11)\n",
    "\n",
    "# Print a classification report\n",
    "print(\"Classification Report:\")\n",
    "print(classification_report(y_test, y_pred))"
   ]
  },
  {
   "cell_type": "code",
   "execution_count": 32,
   "id": "fb8b6aac",
   "metadata": {},
   "outputs": [
    {
     "name": "stdout",
     "output_type": "stream",
     "text": [
      "Accuracy: 0.9467933491686461\n",
      "Classification Report:\n",
      "              precision    recall  f1-score   support\n",
      "\n",
      "          00       0.92      0.94      0.93       114\n",
      "          01       0.96      0.91      0.93       156\n",
      "          02       0.82      0.91      0.86       161\n",
      "          03       0.91      0.91      0.91       148\n",
      "          10       0.99      0.97      0.98       140\n",
      "          11       0.96      0.95      0.96       162\n",
      "          12       0.95      0.95      0.95       148\n",
      "          13       0.90      0.96      0.93        99\n",
      "          20       0.96      0.98      0.97       197\n",
      "          21       0.97      0.94      0.96       228\n",
      "          22       0.98      0.89      0.93       163\n",
      "          23       0.97      1.00      0.98       275\n",
      "          24       1.00      0.96      0.98       114\n",
      "\n",
      "    accuracy                           0.95      2105\n",
      "   macro avg       0.95      0.94      0.94      2105\n",
      "weighted avg       0.95      0.95      0.95      2105\n",
      "\n"
     ]
    }
   ],
   "source": [
    "# SVC\n",
    "\n",
    "svc_model5 = SVC()\n",
    "svc_model5.fit(train80_x, train80_y)\n",
    "\n",
    "# Predict on the test data\n",
    "y_pred = svc_model5.predict(X_test_standardized)\n",
    "\n",
    "# Calculate accuracy\n",
    "accuracy12 = accuracy_score(y_test, y_pred)\n",
    "print(\"Accuracy:\", accuracy12)\n",
    "\n",
    "# Print a classification report\n",
    "print(\"Classification Report:\")\n",
    "print(classification_report(y_test, y_pred))"
   ]
  },
  {
   "cell_type": "code",
   "execution_count": 33,
   "id": "c2597fc2",
   "metadata": {},
   "outputs": [],
   "source": [
    "# Get the average acuracy of three models for 80% of data\n",
    "average_score_exp4 = (accuracy10+accuracy11+accuracy12)/3"
   ]
  },
  {
   "cell_type": "code",
   "execution_count": 34,
   "id": "799112f2",
   "metadata": {},
   "outputs": [
    {
     "name": "stdout",
     "output_type": "stream",
     "text": [
      "Accuracy: 0.9377672209026128\n",
      "Classification Report:\n",
      "              precision    recall  f1-score   support\n",
      "\n",
      "          00       0.92      0.95      0.94       114\n",
      "          01       0.93      0.91      0.92       156\n",
      "          02       0.88      0.87      0.87       161\n",
      "          03       0.89      0.91      0.90       148\n",
      "          10       0.94      0.94      0.94       140\n",
      "          11       0.94      0.91      0.92       162\n",
      "          12       0.94      0.95      0.95       148\n",
      "          13       0.90      0.95      0.92        99\n",
      "          20       0.96      0.97      0.97       197\n",
      "          21       0.97      0.95      0.96       228\n",
      "          22       0.95      0.93      0.94       163\n",
      "          23       0.96      0.97      0.97       275\n",
      "          24       0.94      0.96      0.95       114\n",
      "\n",
      "    accuracy                           0.94      2105\n",
      "   macro avg       0.93      0.94      0.93      2105\n",
      "weighted avg       0.94      0.94      0.94      2105\n",
      "\n"
     ]
    }
   ],
   "source": [
    "# 100%\n",
    "\n",
    "# Logistic Model\n",
    "\n",
    "# Predict the labels for the test set with model validated for 100% train data\n",
    "y_pred = logistic_model.predict(X_test_standardized)\n",
    "\n",
    "# Calculate accuracy\n",
    "accuracy13 = accuracy_score(y_test, y_pred)\n",
    "print(\"Accuracy:\", accuracy13)\n",
    "\n",
    "# Print a classification report\n",
    "print(\"Classification Report:\")\n",
    "print(classification_report(y_test, y_pred))"
   ]
  },
  {
   "cell_type": "code",
   "execution_count": 35,
   "id": "6583f5a7",
   "metadata": {},
   "outputs": [
    {
     "name": "stdout",
     "output_type": "stream",
     "text": [
      "Accuracy: 0.9344418052256532\n",
      "Classification Report:\n",
      "              precision    recall  f1-score   support\n",
      "\n",
      "          00       0.87      0.96      0.91       114\n",
      "          01       0.89      0.90      0.89       156\n",
      "          02       0.92      0.81      0.86       161\n",
      "          03       0.89      0.92      0.91       148\n",
      "          10       0.93      0.98      0.95       140\n",
      "          11       0.97      0.92      0.95       162\n",
      "          12       0.94      0.93      0.94       148\n",
      "          13       0.93      0.96      0.95        99\n",
      "          20       0.93      0.98      0.96       197\n",
      "          21       0.94      0.93      0.94       228\n",
      "          22       0.94      0.90      0.92       163\n",
      "          23       0.97      0.97      0.97       275\n",
      "          24       1.00      0.99      1.00       114\n",
      "\n",
      "    accuracy                           0.93      2105\n",
      "   macro avg       0.93      0.93      0.93      2105\n",
      "weighted avg       0.94      0.93      0.93      2105\n",
      "\n"
     ]
    }
   ],
   "source": [
    "# KNN\n",
    "\n",
    "# Predict the labels for the test set with model validated for 100% train data\n",
    "y_pred = knn.predict(X_test_standardized)\n",
    "\n",
    "# Calculate accuracy\n",
    "accuracy14 = accuracy_score(y_test, y_pred)\n",
    "print(\"Accuracy:\", accuracy14)\n",
    "\n",
    "# Print a classification report\n",
    "print(\"Classification Report:\")\n",
    "print(classification_report(y_test, y_pred))"
   ]
  },
  {
   "cell_type": "code",
   "execution_count": 36,
   "id": "e01203af",
   "metadata": {},
   "outputs": [
    {
     "name": "stdout",
     "output_type": "stream",
     "text": [
      "Accuracy: 0.9458432304038005\n",
      "Classification Report:\n",
      "              precision    recall  f1-score   support\n",
      "\n",
      "          00       0.92      0.94      0.93       114\n",
      "          01       0.95      0.90      0.92       156\n",
      "          02       0.81      0.91      0.86       161\n",
      "          03       0.92      0.91      0.92       148\n",
      "          10       0.98      0.96      0.97       140\n",
      "          11       0.96      0.94      0.95       162\n",
      "          12       0.95      0.95      0.95       148\n",
      "          13       0.94      0.93      0.93        99\n",
      "          20       0.95      0.99      0.97       197\n",
      "          21       0.97      0.94      0.96       228\n",
      "          22       0.98      0.90      0.94       163\n",
      "          23       0.97      1.00      0.98       275\n",
      "          24       1.00      0.96      0.98       114\n",
      "\n",
      "    accuracy                           0.95      2105\n",
      "   macro avg       0.95      0.94      0.94      2105\n",
      "weighted avg       0.95      0.95      0.95      2105\n",
      "\n"
     ]
    }
   ],
   "source": [
    "# SVC\n",
    "\n",
    "y_pred = svc_model.predict(X_test_standardized)\n",
    "\n",
    "# Calculate accuracy\n",
    "accuracy15 = accuracy_score(y_test, y_pred)\n",
    "print(\"Accuracy:\", accuracy15)\n",
    "\n",
    "# Print a classification report\n",
    "print(\"Classification Report:\")\n",
    "print(classification_report(y_test, y_pred))"
   ]
  },
  {
   "cell_type": "code",
   "execution_count": 37,
   "id": "566aadf6",
   "metadata": {},
   "outputs": [],
   "source": [
    "# Get the average acuracy of three models for 100% of data\n",
    "average_score_exp5 = (accuracy13+accuracy14+accuracy15)/3"
   ]
  },
  {
   "cell_type": "code",
   "execution_count": 38,
   "id": "929e7aaa",
   "metadata": {},
   "outputs": [],
   "source": [
    "# List of average scores from experiments\n",
    "avg_list = [average_score_exp1, average_score_exp2, average_score_exp3, average_score_exp4, average_score_exp5]\n",
    "\n",
    "# Round the numbers in the list to 2 decimal places\n",
    "rounded_numbers = [round(num, 2) for num in avg_list]\n",
    "\n",
    "# Convert the rounded numbers to percentages by multiplying by 100\n",
    "rounded_numbers = [num * 100 for num in rounded_numbers]"
   ]
  },
  {
   "cell_type": "code",
   "execution_count": 39,
   "id": "e4cc6a00",
   "metadata": {},
   "outputs": [
    {
     "data": {
      "image/png": "[encoded data removed]",
      "text/plain": [
       "<Figure size 600x400 with 1 Axes>"
      ]
     },
     "metadata": {},
     "output_type": "display_data"
    }
   ],
   "source": [
    "# Categories representing different training set sizes\n",
    "categories = ['20% Train', '40% Train', '60% Train', '80% Train', '100% Train']\n",
    "\n",
    "# Colors for the bars in the bar chart\n",
    "colors = ['skyblue', 'orange', 'green', 'red', 'purple']\n",
    "\n",
    "# Create a bar chart with specified categories, average scores, and colors\n",
    "plt.figure(figsize=(6, 4))\n",
    "bars = plt.bar(categories, avg_list, color=colors)\n",
    "\n",
    "# Display percentage values on top of the bars\n",
    "count = 0\n",
    "for bar in bars:\n",
    "    yval = bar.get_height()\n",
    "    # Display rounded percentage values on the bars\n",
    "    plt.text(bar.get_x() + bar.get_width() / 2, yval, f'{rounded_numbers[count]}%', ha='center', va='bottom', fontsize=10)\n",
    "    count += 1\n",
    "\n",
    "# Labeling the axes and setting the title for the chart\n",
    "plt.xlabel('Categories')\n",
    "plt.ylabel('Percentage')\n",
    "plt.title('Model Performance based on the size of train set')\n",
    "\n",
    "# Rotate the x-axis labels for better readability\n",
    "plt.xticks(rotation=45)\n",
    "\n",
    "# Display the bar chart\n",
    "plt.show()"
   ]
  },
  {
   "cell_type": "code",
   "execution_count": null,
   "id": "1cb85323",
   "metadata": {},
   "outputs": [],
   "source": []
  },
  {
   "cell_type": "code",
   "execution_count": null,
   "id": "5bc4fc53",
   "metadata": {},
   "outputs": [],
   "source": []
  },
  {
   "cell_type": "code",
   "execution_count": null,
   "id": "ea18fa54",
   "metadata": {},
   "outputs": [],
   "source": []
  },
  {
   "cell_type": "code",
   "execution_count": null,
   "id": "4c5cc8d3",
   "metadata": {},
   "outputs": [],
   "source": []
  },
  {
   "cell_type": "code",
   "execution_count": null,
   "id": "166bd773",
   "metadata": {},
   "outputs": [],
   "source": []
  },
  {
   "cell_type": "code",
   "execution_count": null,
   "id": "e2fd28cb",
   "metadata": {},
   "outputs": [],
   "source": [
    "\n"
   ]
  },
  {
   "cell_type": "code",
   "execution_count": null,
   "id": "717060e8",
   "metadata": {},
   "outputs": [],
   "source": []
  },
  {
   "cell_type": "code",
   "execution_count": null,
   "id": "84163585",
   "metadata": {},
   "outputs": [],
   "source": []
  },
  {
   "cell_type": "code",
   "execution_count": null,
   "id": "c2e15e30",
   "metadata": {},
   "outputs": [],
   "source": []
  },
  {
   "cell_type": "code",
   "execution_count": null,
   "id": "f0b7fdcc",
   "metadata": {},
   "outputs": [],
   "source": []
  },
  {
   "cell_type": "code",
   "execution_count": null,
   "id": "dee78d9f",
   "metadata": {},
   "outputs": [],
   "source": []
  },
  {
   "cell_type": "code",
   "execution_count": null,
   "id": "d54fe173",
   "metadata": {},
   "outputs": [],
   "source": []
  }
 ],
 "metadata": {
  "kernelspec": {
   "display_name": "Python 3 (ipykernel)",
   "language": "python",
   "name": "python3"
  },
  "language_info": {
   "codemirror_mode": {
    "name": "ipython",
    "version": 3
   },
   "file_extension": ".py",
   "mimetype": "text/x-python",
   "name": "python",
   "nbconvert_exporter": "python",
   "pygments_lexer": "ipython3",
   "version": "3.11.5"
  }
 },
 "nbformat": 4,
 "nbformat_minor": 5
}
